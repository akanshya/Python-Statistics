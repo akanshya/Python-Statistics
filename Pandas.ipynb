{
 "cells": [
  {
   "cell_type": "markdown",
   "metadata": {},
   "source": [
    "# Series"
   ]
  },
  {
   "cell_type": "code",
   "execution_count": 1,
   "metadata": {},
   "outputs": [],
   "source": [
    "import pandas as pd\n"
   ]
  },
  {
   "cell_type": "code",
   "execution_count": 2,
   "metadata": {},
   "outputs": [],
   "source": [
    "import numpy as np"
   ]
  },
  {
   "cell_type": "code",
   "execution_count": 3,
   "metadata": {},
   "outputs": [],
   "source": [
    "dic={'a':10,'b':15,'c':20,'d':25}"
   ]
  },
  {
   "cell_type": "code",
   "execution_count": 4,
   "metadata": {},
   "outputs": [],
   "source": [
    "ser1=pd.Series(dic)"
   ]
  },
  {
   "cell_type": "code",
   "execution_count": 5,
   "metadata": {},
   "outputs": [
    {
     "data": {
      "text/plain": [
       "a    10\n",
       "b    15\n",
       "c    20\n",
       "d    25\n",
       "dtype: int64"
      ]
     },
     "execution_count": 5,
     "metadata": {},
     "output_type": "execute_result"
    }
   ],
   "source": [
    "ser1"
   ]
  },
  {
   "cell_type": "code",
   "execution_count": 6,
   "metadata": {},
   "outputs": [
    {
     "data": {
      "text/plain": [
       "a    10\n",
       "b    15\n",
       "dtype: int64"
      ]
     },
     "execution_count": 6,
     "metadata": {},
     "output_type": "execute_result"
    }
   ],
   "source": [
    "ser1[['a','b']]"
   ]
  },
  {
   "cell_type": "code",
   "execution_count": 7,
   "metadata": {},
   "outputs": [],
   "source": [
    "ser2=pd.Series([5,2,2,1,9,1])"
   ]
  },
  {
   "cell_type": "code",
   "execution_count": 8,
   "metadata": {},
   "outputs": [
    {
     "data": {
      "text/plain": [
       "0    5\n",
       "1    2\n",
       "2    2\n",
       "3    1\n",
       "4    9\n",
       "5    1\n",
       "dtype: int64"
      ]
     },
     "execution_count": 8,
     "metadata": {},
     "output_type": "execute_result"
    }
   ],
   "source": [
    "ser2"
   ]
  },
  {
   "cell_type": "code",
   "execution_count": 9,
   "metadata": {},
   "outputs": [
    {
     "data": {
      "text/plain": [
       "pandas.core.series.Series"
      ]
     },
     "execution_count": 9,
     "metadata": {},
     "output_type": "execute_result"
    }
   ],
   "source": [
    "type(ser2)"
   ]
  },
  {
   "cell_type": "code",
   "execution_count": 10,
   "metadata": {},
   "outputs": [
    {
     "data": {
      "text/plain": [
       "1    2\n",
       "2    2\n",
       "dtype: int64"
      ]
     },
     "execution_count": 10,
     "metadata": {},
     "output_type": "execute_result"
    }
   ],
   "source": [
    "ser2[(ser2%2==0)]"
   ]
  },
  {
   "cell_type": "code",
   "execution_count": 11,
   "metadata": {},
   "outputs": [
    {
     "data": {
      "text/plain": [
       "0    5\n",
       "1    2\n",
       "2    2\n",
       "3    1\n",
       "4    9\n",
       "5    1\n",
       "dtype: int64"
      ]
     },
     "execution_count": 11,
     "metadata": {},
     "output_type": "execute_result"
    }
   ],
   "source": [
    "ser2"
   ]
  },
  {
   "cell_type": "markdown",
   "metadata": {},
   "source": [
    "# DataFrame"
   ]
  },
  {
   "cell_type": "code",
   "execution_count": 12,
   "metadata": {},
   "outputs": [],
   "source": [
    "from numpy.random import randn"
   ]
  },
  {
   "cell_type": "code",
   "execution_count": 13,
   "metadata": {},
   "outputs": [
    {
     "data": {
      "text/plain": [
       "array([[ 1.01957365,  0.75290113, -0.91169215],\n",
       "       [ 1.19761277,  0.3277981 ,  0.94405606]])"
      ]
     },
     "execution_count": 13,
     "metadata": {},
     "output_type": "execute_result"
    }
   ],
   "source": [
    "randn(2,3)"
   ]
  },
  {
   "cell_type": "code",
   "execution_count": 14,
   "metadata": {},
   "outputs": [
    {
     "data": {
      "text/plain": [
       "numpy.ndarray"
      ]
     },
     "execution_count": 14,
     "metadata": {},
     "output_type": "execute_result"
    }
   ],
   "source": [
    "type(randn(2))"
   ]
  },
  {
   "cell_type": "code",
   "execution_count": 53,
   "metadata": {},
   "outputs": [],
   "source": [
    "df=pd.DataFrame(randn(6,5),['A','B','C','D','E','F'],['Jap','Tim','Bur','Ami','Kio'])"
   ]
  },
  {
   "cell_type": "code",
   "execution_count": 54,
   "metadata": {},
   "outputs": [
    {
     "data": {
      "text/html": [
       "<div>\n",
       "<style scoped>\n",
       "    .dataframe tbody tr th:only-of-type {\n",
       "        vertical-align: middle;\n",
       "    }\n",
       "\n",
       "    .dataframe tbody tr th {\n",
       "        vertical-align: top;\n",
       "    }\n",
       "\n",
       "    .dataframe thead th {\n",
       "        text-align: right;\n",
       "    }\n",
       "</style>\n",
       "<table border=\"1\" class=\"dataframe\">\n",
       "  <thead>\n",
       "    <tr style=\"text-align: right;\">\n",
       "      <th></th>\n",
       "      <th>Jap</th>\n",
       "      <th>Tim</th>\n",
       "      <th>Bur</th>\n",
       "      <th>Ami</th>\n",
       "      <th>Kio</th>\n",
       "    </tr>\n",
       "  </thead>\n",
       "  <tbody>\n",
       "    <tr>\n",
       "      <td>A</td>\n",
       "      <td>-0.021314</td>\n",
       "      <td>-0.791881</td>\n",
       "      <td>-0.822225</td>\n",
       "      <td>1.302389</td>\n",
       "      <td>-0.809717</td>\n",
       "    </tr>\n",
       "    <tr>\n",
       "      <td>B</td>\n",
       "      <td>-1.161024</td>\n",
       "      <td>1.456350</td>\n",
       "      <td>2.321638</td>\n",
       "      <td>0.403937</td>\n",
       "      <td>0.792137</td>\n",
       "    </tr>\n",
       "    <tr>\n",
       "      <td>C</td>\n",
       "      <td>1.047406</td>\n",
       "      <td>-0.503401</td>\n",
       "      <td>0.871590</td>\n",
       "      <td>-1.300295</td>\n",
       "      <td>0.349428</td>\n",
       "    </tr>\n",
       "    <tr>\n",
       "      <td>D</td>\n",
       "      <td>0.649527</td>\n",
       "      <td>0.869084</td>\n",
       "      <td>-0.175512</td>\n",
       "      <td>-0.155641</td>\n",
       "      <td>1.512540</td>\n",
       "    </tr>\n",
       "    <tr>\n",
       "      <td>E</td>\n",
       "      <td>-0.420978</td>\n",
       "      <td>-1.782464</td>\n",
       "      <td>1.603207</td>\n",
       "      <td>0.588265</td>\n",
       "      <td>-0.293537</td>\n",
       "    </tr>\n",
       "    <tr>\n",
       "      <td>F</td>\n",
       "      <td>-0.158355</td>\n",
       "      <td>0.176777</td>\n",
       "      <td>-0.471445</td>\n",
       "      <td>0.610953</td>\n",
       "      <td>0.741134</td>\n",
       "    </tr>\n",
       "  </tbody>\n",
       "</table>\n",
       "</div>"
      ],
      "text/plain": [
       "        Jap       Tim       Bur       Ami       Kio\n",
       "A -0.021314 -0.791881 -0.822225  1.302389 -0.809717\n",
       "B -1.161024  1.456350  2.321638  0.403937  0.792137\n",
       "C  1.047406 -0.503401  0.871590 -1.300295  0.349428\n",
       "D  0.649527  0.869084 -0.175512 -0.155641  1.512540\n",
       "E -0.420978 -1.782464  1.603207  0.588265 -0.293537\n",
       "F -0.158355  0.176777 -0.471445  0.610953  0.741134"
      ]
     },
     "execution_count": 54,
     "metadata": {},
     "output_type": "execute_result"
    }
   ],
   "source": [
    "df"
   ]
  },
  {
   "cell_type": "code",
   "execution_count": 17,
   "metadata": {},
   "outputs": [
    {
     "data": {
      "text/html": [
       "<div>\n",
       "<style scoped>\n",
       "    .dataframe tbody tr th:only-of-type {\n",
       "        vertical-align: middle;\n",
       "    }\n",
       "\n",
       "    .dataframe tbody tr th {\n",
       "        vertical-align: top;\n",
       "    }\n",
       "\n",
       "    .dataframe thead th {\n",
       "        text-align: right;\n",
       "    }\n",
       "</style>\n",
       "<table border=\"1\" class=\"dataframe\">\n",
       "  <thead>\n",
       "    <tr style=\"text-align: right;\">\n",
       "      <th></th>\n",
       "      <th>Jap</th>\n",
       "      <th>Bur</th>\n",
       "    </tr>\n",
       "  </thead>\n",
       "  <tbody>\n",
       "    <tr>\n",
       "      <td>A</td>\n",
       "      <td>-2.381501</td>\n",
       "      <td>0.389558</td>\n",
       "    </tr>\n",
       "    <tr>\n",
       "      <td>B</td>\n",
       "      <td>-1.860713</td>\n",
       "      <td>-0.144301</td>\n",
       "    </tr>\n",
       "    <tr>\n",
       "      <td>C</td>\n",
       "      <td>-1.536860</td>\n",
       "      <td>-0.356959</td>\n",
       "    </tr>\n",
       "    <tr>\n",
       "      <td>D</td>\n",
       "      <td>0.041846</td>\n",
       "      <td>0.879043</td>\n",
       "    </tr>\n",
       "    <tr>\n",
       "      <td>E</td>\n",
       "      <td>0.446315</td>\n",
       "      <td>0.043841</td>\n",
       "    </tr>\n",
       "    <tr>\n",
       "      <td>F</td>\n",
       "      <td>-1.544709</td>\n",
       "      <td>0.393766</td>\n",
       "    </tr>\n",
       "  </tbody>\n",
       "</table>\n",
       "</div>"
      ],
      "text/plain": [
       "        Jap       Bur\n",
       "A -2.381501  0.389558\n",
       "B -1.860713 -0.144301\n",
       "C -1.536860 -0.356959\n",
       "D  0.041846  0.879043\n",
       "E  0.446315  0.043841\n",
       "F -1.544709  0.393766"
      ]
     },
     "execution_count": 17,
     "metadata": {},
     "output_type": "execute_result"
    }
   ],
   "source": [
    "df[['Jap','Bur']]#list of col"
   ]
  },
  {
   "cell_type": "code",
   "execution_count": 18,
   "metadata": {},
   "outputs": [
    {
     "data": {
      "text/plain": [
       "Jap    0.041846\n",
       "Tim    0.041221\n",
       "Bur    0.879043\n",
       "Ami   -0.136958\n",
       "Kio    1.658089\n",
       "Name: D, dtype: float64"
      ]
     },
     "execution_count": 18,
     "metadata": {},
     "output_type": "execute_result"
    }
   ],
   "source": [
    "df.loc['D']"
   ]
  },
  {
   "cell_type": "code",
   "execution_count": 19,
   "metadata": {},
   "outputs": [
    {
     "data": {
      "text/html": [
       "<div>\n",
       "<style scoped>\n",
       "    .dataframe tbody tr th:only-of-type {\n",
       "        vertical-align: middle;\n",
       "    }\n",
       "\n",
       "    .dataframe tbody tr th {\n",
       "        vertical-align: top;\n",
       "    }\n",
       "\n",
       "    .dataframe thead th {\n",
       "        text-align: right;\n",
       "    }\n",
       "</style>\n",
       "<table border=\"1\" class=\"dataframe\">\n",
       "  <thead>\n",
       "    <tr style=\"text-align: right;\">\n",
       "      <th></th>\n",
       "      <th>Jap</th>\n",
       "      <th>Tim</th>\n",
       "      <th>Bur</th>\n",
       "      <th>Ami</th>\n",
       "      <th>Kio</th>\n",
       "    </tr>\n",
       "  </thead>\n",
       "  <tbody>\n",
       "    <tr>\n",
       "      <td>D</td>\n",
       "      <td>0.041846</td>\n",
       "      <td>0.041221</td>\n",
       "      <td>0.879043</td>\n",
       "      <td>-0.136958</td>\n",
       "      <td>1.658089</td>\n",
       "    </tr>\n",
       "  </tbody>\n",
       "</table>\n",
       "</div>"
      ],
      "text/plain": [
       "        Jap       Tim       Bur       Ami       Kio\n",
       "D  0.041846  0.041221  0.879043 -0.136958  1.658089"
      ]
     },
     "execution_count": 19,
     "metadata": {},
     "output_type": "execute_result"
    }
   ],
   "source": [
    "df.iloc[3:4,:]"
   ]
  },
  {
   "cell_type": "code",
   "execution_count": 20,
   "metadata": {},
   "outputs": [
    {
     "data": {
      "text/html": [
       "<div>\n",
       "<style scoped>\n",
       "    .dataframe tbody tr th:only-of-type {\n",
       "        vertical-align: middle;\n",
       "    }\n",
       "\n",
       "    .dataframe tbody tr th {\n",
       "        vertical-align: top;\n",
       "    }\n",
       "\n",
       "    .dataframe thead th {\n",
       "        text-align: right;\n",
       "    }\n",
       "</style>\n",
       "<table border=\"1\" class=\"dataframe\">\n",
       "  <thead>\n",
       "    <tr style=\"text-align: right;\">\n",
       "      <th></th>\n",
       "      <th>Jap</th>\n",
       "      <th>Tim</th>\n",
       "      <th>Bur</th>\n",
       "      <th>Ami</th>\n",
       "      <th>Kio</th>\n",
       "    </tr>\n",
       "  </thead>\n",
       "  <tbody>\n",
       "    <tr>\n",
       "      <td>A</td>\n",
       "      <td>-2.381501</td>\n",
       "      <td>-0.021928</td>\n",
       "      <td>0.389558</td>\n",
       "      <td>2.988773</td>\n",
       "      <td>-0.852427</td>\n",
       "    </tr>\n",
       "    <tr>\n",
       "      <td>B</td>\n",
       "      <td>-1.860713</td>\n",
       "      <td>0.348965</td>\n",
       "      <td>-0.144301</td>\n",
       "      <td>0.344998</td>\n",
       "      <td>0.166519</td>\n",
       "    </tr>\n",
       "    <tr>\n",
       "      <td>C</td>\n",
       "      <td>-1.536860</td>\n",
       "      <td>-0.187880</td>\n",
       "      <td>-0.356959</td>\n",
       "      <td>-1.420884</td>\n",
       "      <td>-0.145742</td>\n",
       "    </tr>\n",
       "    <tr>\n",
       "      <td>D</td>\n",
       "      <td>0.041846</td>\n",
       "      <td>0.041221</td>\n",
       "      <td>0.879043</td>\n",
       "      <td>-0.136958</td>\n",
       "      <td>1.658089</td>\n",
       "    </tr>\n",
       "    <tr>\n",
       "      <td>E</td>\n",
       "      <td>0.446315</td>\n",
       "      <td>0.013434</td>\n",
       "      <td>0.043841</td>\n",
       "      <td>0.459585</td>\n",
       "      <td>1.801134</td>\n",
       "    </tr>\n",
       "    <tr>\n",
       "      <td>F</td>\n",
       "      <td>-1.544709</td>\n",
       "      <td>-0.672845</td>\n",
       "      <td>0.393766</td>\n",
       "      <td>0.267708</td>\n",
       "      <td>-0.213889</td>\n",
       "    </tr>\n",
       "  </tbody>\n",
       "</table>\n",
       "</div>"
      ],
      "text/plain": [
       "        Jap       Tim       Bur       Ami       Kio\n",
       "A -2.381501 -0.021928  0.389558  2.988773 -0.852427\n",
       "B -1.860713  0.348965 -0.144301  0.344998  0.166519\n",
       "C -1.536860 -0.187880 -0.356959 -1.420884 -0.145742\n",
       "D  0.041846  0.041221  0.879043 -0.136958  1.658089\n",
       "E  0.446315  0.013434  0.043841  0.459585  1.801134\n",
       "F -1.544709 -0.672845  0.393766  0.267708 -0.213889"
      ]
     },
     "execution_count": 20,
     "metadata": {},
     "output_type": "execute_result"
    }
   ],
   "source": [
    "df"
   ]
  },
  {
   "cell_type": "code",
   "execution_count": 21,
   "metadata": {},
   "outputs": [
    {
     "data": {
      "text/plain": [
       "5"
      ]
     },
     "execution_count": 21,
     "metadata": {},
     "output_type": "execute_result"
    }
   ],
   "source": [
    "df.shape[1]"
   ]
  },
  {
   "cell_type": "code",
   "execution_count": 22,
   "metadata": {},
   "outputs": [
    {
     "data": {
      "text/html": [
       "<div>\n",
       "<style scoped>\n",
       "    .dataframe tbody tr th:only-of-type {\n",
       "        vertical-align: middle;\n",
       "    }\n",
       "\n",
       "    .dataframe tbody tr th {\n",
       "        vertical-align: top;\n",
       "    }\n",
       "\n",
       "    .dataframe thead th {\n",
       "        text-align: right;\n",
       "    }\n",
       "</style>\n",
       "<table border=\"1\" class=\"dataframe\">\n",
       "  <thead>\n",
       "    <tr style=\"text-align: right;\">\n",
       "      <th></th>\n",
       "      <th>Jap</th>\n",
       "      <th>Tim</th>\n",
       "      <th>Bur</th>\n",
       "      <th>Ami</th>\n",
       "      <th>Kio</th>\n",
       "    </tr>\n",
       "  </thead>\n",
       "  <tbody>\n",
       "    <tr>\n",
       "      <td>count</td>\n",
       "      <td>6.000000</td>\n",
       "      <td>6.000000</td>\n",
       "      <td>6.000000</td>\n",
       "      <td>6.000000</td>\n",
       "      <td>6.000000</td>\n",
       "    </tr>\n",
       "    <tr>\n",
       "      <td>mean</td>\n",
       "      <td>-1.139270</td>\n",
       "      <td>-0.079839</td>\n",
       "      <td>0.200824</td>\n",
       "      <td>0.417204</td>\n",
       "      <td>0.402280</td>\n",
       "    </tr>\n",
       "    <tr>\n",
       "      <td>std</td>\n",
       "      <td>1.122069</td>\n",
       "      <td>0.338795</td>\n",
       "      <td>0.444456</td>\n",
       "      <td>1.437219</td>\n",
       "      <td>1.081084</td>\n",
       "    </tr>\n",
       "    <tr>\n",
       "      <td>min</td>\n",
       "      <td>-2.381501</td>\n",
       "      <td>-0.672845</td>\n",
       "      <td>-0.356959</td>\n",
       "      <td>-1.420884</td>\n",
       "      <td>-0.852427</td>\n",
       "    </tr>\n",
       "    <tr>\n",
       "      <td>25%</td>\n",
       "      <td>-1.781712</td>\n",
       "      <td>-0.146392</td>\n",
       "      <td>-0.097266</td>\n",
       "      <td>-0.035792</td>\n",
       "      <td>-0.196853</td>\n",
       "    </tr>\n",
       "    <tr>\n",
       "      <td>50%</td>\n",
       "      <td>-1.540785</td>\n",
       "      <td>-0.004247</td>\n",
       "      <td>0.216699</td>\n",
       "      <td>0.306353</td>\n",
       "      <td>0.010388</td>\n",
       "    </tr>\n",
       "    <tr>\n",
       "      <td>75%</td>\n",
       "      <td>-0.352830</td>\n",
       "      <td>0.034274</td>\n",
       "      <td>0.392714</td>\n",
       "      <td>0.430939</td>\n",
       "      <td>1.285196</td>\n",
       "    </tr>\n",
       "    <tr>\n",
       "      <td>max</td>\n",
       "      <td>0.446315</td>\n",
       "      <td>0.348965</td>\n",
       "      <td>0.879043</td>\n",
       "      <td>2.988773</td>\n",
       "      <td>1.801134</td>\n",
       "    </tr>\n",
       "  </tbody>\n",
       "</table>\n",
       "</div>"
      ],
      "text/plain": [
       "            Jap       Tim       Bur       Ami       Kio\n",
       "count  6.000000  6.000000  6.000000  6.000000  6.000000\n",
       "mean  -1.139270 -0.079839  0.200824  0.417204  0.402280\n",
       "std    1.122069  0.338795  0.444456  1.437219  1.081084\n",
       "min   -2.381501 -0.672845 -0.356959 -1.420884 -0.852427\n",
       "25%   -1.781712 -0.146392 -0.097266 -0.035792 -0.196853\n",
       "50%   -1.540785 -0.004247  0.216699  0.306353  0.010388\n",
       "75%   -0.352830  0.034274  0.392714  0.430939  1.285196\n",
       "max    0.446315  0.348965  0.879043  2.988773  1.801134"
      ]
     },
     "execution_count": 22,
     "metadata": {},
     "output_type": "execute_result"
    }
   ],
   "source": [
    "df.describe()#stats"
   ]
  },
  {
   "cell_type": "code",
   "execution_count": 23,
   "metadata": {},
   "outputs": [
    {
     "name": "stdout",
     "output_type": "stream",
     "text": [
      "<class 'pandas.core.frame.DataFrame'>\n",
      "Index: 6 entries, A to F\n",
      "Data columns (total 5 columns):\n",
      "Jap    6 non-null float64\n",
      "Tim    6 non-null float64\n",
      "Bur    6 non-null float64\n",
      "Ami    6 non-null float64\n",
      "Kio    6 non-null float64\n",
      "dtypes: float64(5)\n",
      "memory usage: 448.0+ bytes\n"
     ]
    }
   ],
   "source": [
    "df.info()"
   ]
  },
  {
   "cell_type": "code",
   "execution_count": 27,
   "metadata": {},
   "outputs": [],
   "source": [
    "df.reset_index(inplace=True)"
   ]
  },
  {
   "cell_type": "code",
   "execution_count": 28,
   "metadata": {},
   "outputs": [
    {
     "data": {
      "text/html": [
       "<div>\n",
       "<style scoped>\n",
       "    .dataframe tbody tr th:only-of-type {\n",
       "        vertical-align: middle;\n",
       "    }\n",
       "\n",
       "    .dataframe tbody tr th {\n",
       "        vertical-align: top;\n",
       "    }\n",
       "\n",
       "    .dataframe thead th {\n",
       "        text-align: right;\n",
       "    }\n",
       "</style>\n",
       "<table border=\"1\" class=\"dataframe\">\n",
       "  <thead>\n",
       "    <tr style=\"text-align: right;\">\n",
       "      <th></th>\n",
       "      <th>index</th>\n",
       "      <th>Jap</th>\n",
       "      <th>Tim</th>\n",
       "      <th>Bur</th>\n",
       "      <th>Ami</th>\n",
       "      <th>Kio</th>\n",
       "    </tr>\n",
       "  </thead>\n",
       "  <tbody>\n",
       "    <tr>\n",
       "      <td>0</td>\n",
       "      <td>A</td>\n",
       "      <td>-2.381501</td>\n",
       "      <td>-0.021928</td>\n",
       "      <td>0.389558</td>\n",
       "      <td>2.988773</td>\n",
       "      <td>-0.852427</td>\n",
       "    </tr>\n",
       "    <tr>\n",
       "      <td>1</td>\n",
       "      <td>B</td>\n",
       "      <td>-1.860713</td>\n",
       "      <td>0.348965</td>\n",
       "      <td>-0.144301</td>\n",
       "      <td>0.344998</td>\n",
       "      <td>0.166519</td>\n",
       "    </tr>\n",
       "    <tr>\n",
       "      <td>2</td>\n",
       "      <td>C</td>\n",
       "      <td>-1.536860</td>\n",
       "      <td>-0.187880</td>\n",
       "      <td>-0.356959</td>\n",
       "      <td>-1.420884</td>\n",
       "      <td>-0.145742</td>\n",
       "    </tr>\n",
       "    <tr>\n",
       "      <td>3</td>\n",
       "      <td>D</td>\n",
       "      <td>0.041846</td>\n",
       "      <td>0.041221</td>\n",
       "      <td>0.879043</td>\n",
       "      <td>-0.136958</td>\n",
       "      <td>1.658089</td>\n",
       "    </tr>\n",
       "    <tr>\n",
       "      <td>4</td>\n",
       "      <td>E</td>\n",
       "      <td>0.446315</td>\n",
       "      <td>0.013434</td>\n",
       "      <td>0.043841</td>\n",
       "      <td>0.459585</td>\n",
       "      <td>1.801134</td>\n",
       "    </tr>\n",
       "    <tr>\n",
       "      <td>5</td>\n",
       "      <td>F</td>\n",
       "      <td>-1.544709</td>\n",
       "      <td>-0.672845</td>\n",
       "      <td>0.393766</td>\n",
       "      <td>0.267708</td>\n",
       "      <td>-0.213889</td>\n",
       "    </tr>\n",
       "  </tbody>\n",
       "</table>\n",
       "</div>"
      ],
      "text/plain": [
       "  index       Jap       Tim       Bur       Ami       Kio\n",
       "0     A -2.381501 -0.021928  0.389558  2.988773 -0.852427\n",
       "1     B -1.860713  0.348965 -0.144301  0.344998  0.166519\n",
       "2     C -1.536860 -0.187880 -0.356959 -1.420884 -0.145742\n",
       "3     D  0.041846  0.041221  0.879043 -0.136958  1.658089\n",
       "4     E  0.446315  0.013434  0.043841  0.459585  1.801134\n",
       "5     F -1.544709 -0.672845  0.393766  0.267708 -0.213889"
      ]
     },
     "execution_count": 28,
     "metadata": {},
     "output_type": "execute_result"
    }
   ],
   "source": [
    "df"
   ]
  },
  {
   "cell_type": "code",
   "execution_count": 29,
   "metadata": {},
   "outputs": [],
   "source": [
    "df.set_index('index',inplace=True)"
   ]
  },
  {
   "cell_type": "code",
   "execution_count": 30,
   "metadata": {},
   "outputs": [
    {
     "data": {
      "text/html": [
       "<div>\n",
       "<style scoped>\n",
       "    .dataframe tbody tr th:only-of-type {\n",
       "        vertical-align: middle;\n",
       "    }\n",
       "\n",
       "    .dataframe tbody tr th {\n",
       "        vertical-align: top;\n",
       "    }\n",
       "\n",
       "    .dataframe thead th {\n",
       "        text-align: right;\n",
       "    }\n",
       "</style>\n",
       "<table border=\"1\" class=\"dataframe\">\n",
       "  <thead>\n",
       "    <tr style=\"text-align: right;\">\n",
       "      <th></th>\n",
       "      <th>Jap</th>\n",
       "      <th>Tim</th>\n",
       "      <th>Bur</th>\n",
       "      <th>Ami</th>\n",
       "      <th>Kio</th>\n",
       "    </tr>\n",
       "    <tr>\n",
       "      <th>index</th>\n",
       "      <th></th>\n",
       "      <th></th>\n",
       "      <th></th>\n",
       "      <th></th>\n",
       "      <th></th>\n",
       "    </tr>\n",
       "  </thead>\n",
       "  <tbody>\n",
       "    <tr>\n",
       "      <td>A</td>\n",
       "      <td>-2.381501</td>\n",
       "      <td>-0.021928</td>\n",
       "      <td>0.389558</td>\n",
       "      <td>2.988773</td>\n",
       "      <td>-0.852427</td>\n",
       "    </tr>\n",
       "    <tr>\n",
       "      <td>B</td>\n",
       "      <td>-1.860713</td>\n",
       "      <td>0.348965</td>\n",
       "      <td>-0.144301</td>\n",
       "      <td>0.344998</td>\n",
       "      <td>0.166519</td>\n",
       "    </tr>\n",
       "    <tr>\n",
       "      <td>C</td>\n",
       "      <td>-1.536860</td>\n",
       "      <td>-0.187880</td>\n",
       "      <td>-0.356959</td>\n",
       "      <td>-1.420884</td>\n",
       "      <td>-0.145742</td>\n",
       "    </tr>\n",
       "    <tr>\n",
       "      <td>D</td>\n",
       "      <td>0.041846</td>\n",
       "      <td>0.041221</td>\n",
       "      <td>0.879043</td>\n",
       "      <td>-0.136958</td>\n",
       "      <td>1.658089</td>\n",
       "    </tr>\n",
       "    <tr>\n",
       "      <td>E</td>\n",
       "      <td>0.446315</td>\n",
       "      <td>0.013434</td>\n",
       "      <td>0.043841</td>\n",
       "      <td>0.459585</td>\n",
       "      <td>1.801134</td>\n",
       "    </tr>\n",
       "    <tr>\n",
       "      <td>F</td>\n",
       "      <td>-1.544709</td>\n",
       "      <td>-0.672845</td>\n",
       "      <td>0.393766</td>\n",
       "      <td>0.267708</td>\n",
       "      <td>-0.213889</td>\n",
       "    </tr>\n",
       "  </tbody>\n",
       "</table>\n",
       "</div>"
      ],
      "text/plain": [
       "            Jap       Tim       Bur       Ami       Kio\n",
       "index                                                  \n",
       "A     -2.381501 -0.021928  0.389558  2.988773 -0.852427\n",
       "B     -1.860713  0.348965 -0.144301  0.344998  0.166519\n",
       "C     -1.536860 -0.187880 -0.356959 -1.420884 -0.145742\n",
       "D      0.041846  0.041221  0.879043 -0.136958  1.658089\n",
       "E      0.446315  0.013434  0.043841  0.459585  1.801134\n",
       "F     -1.544709 -0.672845  0.393766  0.267708 -0.213889"
      ]
     },
     "execution_count": 30,
     "metadata": {},
     "output_type": "execute_result"
    }
   ],
   "source": [
    "df"
   ]
  },
  {
   "cell_type": "code",
   "execution_count": 32,
   "metadata": {},
   "outputs": [
    {
     "data": {
      "text/plain": [
       "-2.3815011126406036"
      ]
     },
     "execution_count": 32,
     "metadata": {},
     "output_type": "execute_result"
    }
   ],
   "source": [
    "df.loc['A','Jap']"
   ]
  },
  {
   "cell_type": "code",
   "execution_count": 42,
   "metadata": {},
   "outputs": [
    {
     "data": {
      "text/plain": [
       "Jap    4\n",
       "Tim    3\n",
       "Bur    2\n",
       "Ami    2\n",
       "Kio    3\n",
       "dtype: int64"
      ]
     },
     "execution_count": 42,
     "metadata": {},
     "output_type": "execute_result"
    }
   ],
   "source": [
    "df[(df>0)].isnull().sum()"
   ]
  },
  {
   "cell_type": "code",
   "execution_count": 44,
   "metadata": {},
   "outputs": [
    {
     "data": {
      "text/plain": [
       "Jap    False\n",
       "Tim    False\n",
       "Bur    False\n",
       "Ami    False\n",
       "Kio    False\n",
       "Name: C, dtype: bool"
      ]
     },
     "execution_count": 44,
     "metadata": {},
     "output_type": "execute_result"
    }
   ],
   "source": [
    "boold=df.loc['C']>0\n",
    "boold\n"
   ]
  },
  {
   "cell_type": "code",
   "execution_count": 43,
   "metadata": {},
   "outputs": [
    {
     "data": {
      "text/html": [
       "<div>\n",
       "<style scoped>\n",
       "    .dataframe tbody tr th:only-of-type {\n",
       "        vertical-align: middle;\n",
       "    }\n",
       "\n",
       "    .dataframe tbody tr th {\n",
       "        vertical-align: top;\n",
       "    }\n",
       "\n",
       "    .dataframe thead th {\n",
       "        text-align: right;\n",
       "    }\n",
       "</style>\n",
       "<table border=\"1\" class=\"dataframe\">\n",
       "  <thead>\n",
       "    <tr style=\"text-align: right;\">\n",
       "      <th></th>\n",
       "      <th>Jap</th>\n",
       "      <th>Tim</th>\n",
       "      <th>Bur</th>\n",
       "      <th>Ami</th>\n",
       "      <th>Kio</th>\n",
       "    </tr>\n",
       "    <tr>\n",
       "      <th>index</th>\n",
       "      <th></th>\n",
       "      <th></th>\n",
       "      <th></th>\n",
       "      <th></th>\n",
       "      <th></th>\n",
       "    </tr>\n",
       "  </thead>\n",
       "  <tbody>\n",
       "    <tr>\n",
       "      <td>A</td>\n",
       "      <td>-2.381501</td>\n",
       "      <td>-0.021928</td>\n",
       "      <td>0.389558</td>\n",
       "      <td>2.988773</td>\n",
       "      <td>-0.852427</td>\n",
       "    </tr>\n",
       "    <tr>\n",
       "      <td>B</td>\n",
       "      <td>-1.860713</td>\n",
       "      <td>0.348965</td>\n",
       "      <td>-0.144301</td>\n",
       "      <td>0.344998</td>\n",
       "      <td>0.166519</td>\n",
       "    </tr>\n",
       "    <tr>\n",
       "      <td>C</td>\n",
       "      <td>-1.536860</td>\n",
       "      <td>-0.187880</td>\n",
       "      <td>-0.356959</td>\n",
       "      <td>-1.420884</td>\n",
       "      <td>-0.145742</td>\n",
       "    </tr>\n",
       "    <tr>\n",
       "      <td>D</td>\n",
       "      <td>0.041846</td>\n",
       "      <td>0.041221</td>\n",
       "      <td>0.879043</td>\n",
       "      <td>-0.136958</td>\n",
       "      <td>1.658089</td>\n",
       "    </tr>\n",
       "    <tr>\n",
       "      <td>E</td>\n",
       "      <td>0.446315</td>\n",
       "      <td>0.013434</td>\n",
       "      <td>0.043841</td>\n",
       "      <td>0.459585</td>\n",
       "      <td>1.801134</td>\n",
       "    </tr>\n",
       "    <tr>\n",
       "      <td>F</td>\n",
       "      <td>-1.544709</td>\n",
       "      <td>-0.672845</td>\n",
       "      <td>0.393766</td>\n",
       "      <td>0.267708</td>\n",
       "      <td>-0.213889</td>\n",
       "    </tr>\n",
       "  </tbody>\n",
       "</table>\n",
       "</div>"
      ],
      "text/plain": [
       "            Jap       Tim       Bur       Ami       Kio\n",
       "index                                                  \n",
       "A     -2.381501 -0.021928  0.389558  2.988773 -0.852427\n",
       "B     -1.860713  0.348965 -0.144301  0.344998  0.166519\n",
       "C     -1.536860 -0.187880 -0.356959 -1.420884 -0.145742\n",
       "D      0.041846  0.041221  0.879043 -0.136958  1.658089\n",
       "E      0.446315  0.013434  0.043841  0.459585  1.801134\n",
       "F     -1.544709 -0.672845  0.393766  0.267708 -0.213889"
      ]
     },
     "execution_count": 43,
     "metadata": {},
     "output_type": "execute_result"
    }
   ],
   "source": [
    "df"
   ]
  },
  {
   "cell_type": "code",
   "execution_count": 46,
   "metadata": {},
   "outputs": [
    {
     "data": {
      "text/plain": [
       "Jap    True\n",
       "Tim    True\n",
       "Bur    True\n",
       "Ami    True\n",
       "Kio    True\n",
       "dtype: bool"
      ]
     },
     "execution_count": 46,
     "metadata": {},
     "output_type": "execute_result"
    }
   ],
   "source": [
    "df[df>0].isnull().any()"
   ]
  },
  {
   "cell_type": "code",
   "execution_count": 55,
   "metadata": {},
   "outputs": [
    {
     "data": {
      "text/html": [
       "<div>\n",
       "<style scoped>\n",
       "    .dataframe tbody tr th:only-of-type {\n",
       "        vertical-align: middle;\n",
       "    }\n",
       "\n",
       "    .dataframe tbody tr th {\n",
       "        vertical-align: top;\n",
       "    }\n",
       "\n",
       "    .dataframe thead th {\n",
       "        text-align: right;\n",
       "    }\n",
       "</style>\n",
       "<table border=\"1\" class=\"dataframe\">\n",
       "  <thead>\n",
       "    <tr style=\"text-align: right;\">\n",
       "      <th></th>\n",
       "      <th>Jap</th>\n",
       "      <th>Tim</th>\n",
       "      <th>Bur</th>\n",
       "      <th>Ami</th>\n",
       "      <th>Kio</th>\n",
       "    </tr>\n",
       "  </thead>\n",
       "  <tbody>\n",
       "    <tr>\n",
       "      <td>A</td>\n",
       "      <td>NaN</td>\n",
       "      <td>NaN</td>\n",
       "      <td>NaN</td>\n",
       "      <td>1.302389</td>\n",
       "      <td>NaN</td>\n",
       "    </tr>\n",
       "    <tr>\n",
       "      <td>B</td>\n",
       "      <td>NaN</td>\n",
       "      <td>1.456350</td>\n",
       "      <td>2.321638</td>\n",
       "      <td>0.403937</td>\n",
       "      <td>0.792137</td>\n",
       "    </tr>\n",
       "    <tr>\n",
       "      <td>C</td>\n",
       "      <td>1.047406</td>\n",
       "      <td>NaN</td>\n",
       "      <td>0.871590</td>\n",
       "      <td>NaN</td>\n",
       "      <td>0.349428</td>\n",
       "    </tr>\n",
       "    <tr>\n",
       "      <td>D</td>\n",
       "      <td>0.649527</td>\n",
       "      <td>0.869084</td>\n",
       "      <td>NaN</td>\n",
       "      <td>NaN</td>\n",
       "      <td>1.512540</td>\n",
       "    </tr>\n",
       "    <tr>\n",
       "      <td>E</td>\n",
       "      <td>NaN</td>\n",
       "      <td>NaN</td>\n",
       "      <td>1.603207</td>\n",
       "      <td>0.588265</td>\n",
       "      <td>NaN</td>\n",
       "    </tr>\n",
       "    <tr>\n",
       "      <td>F</td>\n",
       "      <td>NaN</td>\n",
       "      <td>0.176777</td>\n",
       "      <td>NaN</td>\n",
       "      <td>0.610953</td>\n",
       "      <td>0.741134</td>\n",
       "    </tr>\n",
       "  </tbody>\n",
       "</table>\n",
       "</div>"
      ],
      "text/plain": [
       "        Jap       Tim       Bur       Ami       Kio\n",
       "A       NaN       NaN       NaN  1.302389       NaN\n",
       "B       NaN  1.456350  2.321638  0.403937  0.792137\n",
       "C  1.047406       NaN  0.871590       NaN  0.349428\n",
       "D  0.649527  0.869084       NaN       NaN  1.512540\n",
       "E       NaN       NaN  1.603207  0.588265       NaN\n",
       "F       NaN  0.176777       NaN  0.610953  0.741134"
      ]
     },
     "execution_count": 55,
     "metadata": {},
     "output_type": "execute_result"
    }
   ],
   "source": [
    "check=df[df>0]\n",
    "check"
   ]
  },
  {
   "cell_type": "code",
   "execution_count": 59,
   "metadata": {},
   "outputs": [
    {
     "data": {
      "text/html": [
       "<div>\n",
       "<style scoped>\n",
       "    .dataframe tbody tr th:only-of-type {\n",
       "        vertical-align: middle;\n",
       "    }\n",
       "\n",
       "    .dataframe tbody tr th {\n",
       "        vertical-align: top;\n",
       "    }\n",
       "\n",
       "    .dataframe thead th {\n",
       "        text-align: right;\n",
       "    }\n",
       "</style>\n",
       "<table border=\"1\" class=\"dataframe\">\n",
       "  <thead>\n",
       "    <tr style=\"text-align: right;\">\n",
       "      <th></th>\n",
       "      <th>Jap</th>\n",
       "      <th>Tim</th>\n",
       "      <th>Bur</th>\n",
       "      <th>Ami</th>\n",
       "      <th>Kio</th>\n",
       "    </tr>\n",
       "  </thead>\n",
       "  <tbody>\n",
       "    <tr>\n",
       "      <td>A</td>\n",
       "      <td>NaN</td>\n",
       "      <td>NaN</td>\n",
       "      <td>NaN</td>\n",
       "      <td>1.302389</td>\n",
       "      <td>NaN</td>\n",
       "    </tr>\n",
       "    <tr>\n",
       "      <td>B</td>\n",
       "      <td>NaN</td>\n",
       "      <td>1.456350</td>\n",
       "      <td>2.321638</td>\n",
       "      <td>0.403937</td>\n",
       "      <td>0.792137</td>\n",
       "    </tr>\n",
       "    <tr>\n",
       "      <td>C</td>\n",
       "      <td>1.047406</td>\n",
       "      <td>NaN</td>\n",
       "      <td>0.871590</td>\n",
       "      <td>NaN</td>\n",
       "      <td>0.349428</td>\n",
       "    </tr>\n",
       "    <tr>\n",
       "      <td>D</td>\n",
       "      <td>0.649527</td>\n",
       "      <td>0.869084</td>\n",
       "      <td>NaN</td>\n",
       "      <td>NaN</td>\n",
       "      <td>1.512540</td>\n",
       "    </tr>\n",
       "    <tr>\n",
       "      <td>E</td>\n",
       "      <td>NaN</td>\n",
       "      <td>NaN</td>\n",
       "      <td>1.603207</td>\n",
       "      <td>0.588265</td>\n",
       "      <td>NaN</td>\n",
       "    </tr>\n",
       "    <tr>\n",
       "      <td>F</td>\n",
       "      <td>NaN</td>\n",
       "      <td>0.176777</td>\n",
       "      <td>NaN</td>\n",
       "      <td>0.610953</td>\n",
       "      <td>0.741134</td>\n",
       "    </tr>\n",
       "  </tbody>\n",
       "</table>\n",
       "</div>"
      ],
      "text/plain": [
       "        Jap       Tim       Bur       Ami       Kio\n",
       "A       NaN       NaN       NaN  1.302389       NaN\n",
       "B       NaN  1.456350  2.321638  0.403937  0.792137\n",
       "C  1.047406       NaN  0.871590       NaN  0.349428\n",
       "D  0.649527  0.869084       NaN       NaN  1.512540\n",
       "E       NaN       NaN  1.603207  0.588265       NaN\n",
       "F       NaN  0.176777       NaN  0.610953  0.741134"
      ]
     },
     "execution_count": 59,
     "metadata": {},
     "output_type": "execute_result"
    }
   ],
   "source": [
    "check[check.isnull().any(axis=1)]"
   ]
  },
  {
   "cell_type": "code",
   "execution_count": null,
   "metadata": {},
   "outputs": [],
   "source": []
  }
 ],
 "metadata": {
  "kernelspec": {
   "display_name": "Python 3",
   "language": "python",
   "name": "python3"
  },
  "language_info": {
   "codemirror_mode": {
    "name": "ipython",
    "version": 3
   },
   "file_extension": ".py",
   "mimetype": "text/x-python",
   "name": "python",
   "nbconvert_exporter": "python",
   "pygments_lexer": "ipython3",
   "version": "3.7.4"
  }
 },
 "nbformat": 4,
 "nbformat_minor": 2
}
